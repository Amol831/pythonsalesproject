{
 "cells": [
  {
   "cell_type": "markdown",
   "id": "e7dec703",
   "metadata": {},
   "source": [
    "# Sales Performance Analysis"
   ]
  },
  {
   "cell_type": "code",
   "execution_count": 1,
   "id": "a346818f",
   "metadata": {},
   "outputs": [],
   "source": [
    "import pandas as pd"
   ]
  },
  {
   "cell_type": "code",
   "execution_count": 2,
   "id": "8d668a59",
   "metadata": {},
   "outputs": [],
   "source": [
    "df = pd.read_csv(\"C:\\\\Users\\\\ADMIN\\\\Downloads\\\\sales_data (1).csv\")"
   ]
  },
  {
   "cell_type": "code",
   "execution_count": 3,
   "id": "e750ff38",
   "metadata": {},
   "outputs": [
    {
     "data": {
      "text/html": [
       "<div>\n",
       "<style scoped>\n",
       "    .dataframe tbody tr th:only-of-type {\n",
       "        vertical-align: middle;\n",
       "    }\n",
       "\n",
       "    .dataframe tbody tr th {\n",
       "        vertical-align: top;\n",
       "    }\n",
       "\n",
       "    .dataframe thead th {\n",
       "        text-align: right;\n",
       "    }\n",
       "</style>\n",
       "<table border=\"1\" class=\"dataframe\">\n",
       "  <thead>\n",
       "    <tr style=\"text-align: right;\">\n",
       "      <th></th>\n",
       "      <th>Unnamed: 0</th>\n",
       "      <th>ProductID</th>\n",
       "      <th>QuantitySold</th>\n",
       "      <th>Price</th>\n",
       "      <th>Discount</th>\n",
       "      <th>Category</th>\n",
       "      <th>Supplier</th>\n",
       "      <th>Date</th>\n",
       "      <th>CustomerID</th>\n",
       "      <th>Country</th>\n",
       "      <th>Profit</th>\n",
       "    </tr>\n",
       "  </thead>\n",
       "  <tbody>\n",
       "    <tr>\n",
       "      <th>0</th>\n",
       "      <td>0</td>\n",
       "      <td>C</td>\n",
       "      <td>8</td>\n",
       "      <td>75.539471</td>\n",
       "      <td>0.064576</td>\n",
       "      <td>Toys</td>\n",
       "      <td>Supplier1</td>\n",
       "      <td>2022-01-01</td>\n",
       "      <td>1148</td>\n",
       "      <td>USA</td>\n",
       "      <td>20.835021</td>\n",
       "    </tr>\n",
       "    <tr>\n",
       "      <th>1</th>\n",
       "      <td>1</td>\n",
       "      <td>A</td>\n",
       "      <td>8</td>\n",
       "      <td>43.100482</td>\n",
       "      <td>0.142251</td>\n",
       "      <td>Toys</td>\n",
       "      <td>Supplier3</td>\n",
       "      <td>2022-01-02</td>\n",
       "      <td>1079</td>\n",
       "      <td>USA</td>\n",
       "      <td>11.003640</td>\n",
       "    </tr>\n",
       "    <tr>\n",
       "      <th>2</th>\n",
       "      <td>2</td>\n",
       "      <td>C</td>\n",
       "      <td>3</td>\n",
       "      <td>66.907525</td>\n",
       "      <td>0.198508</td>\n",
       "      <td>Clothing</td>\n",
       "      <td>Supplier2</td>\n",
       "      <td>2022-01-03</td>\n",
       "      <td>1885</td>\n",
       "      <td>Canada</td>\n",
       "      <td>6.896583</td>\n",
       "    </tr>\n",
       "    <tr>\n",
       "      <th>3</th>\n",
       "      <td>3</td>\n",
       "      <td>C</td>\n",
       "      <td>1</td>\n",
       "      <td>67.017674</td>\n",
       "      <td>0.071013</td>\n",
       "      <td>Home</td>\n",
       "      <td>Supplier3</td>\n",
       "      <td>2022-01-04</td>\n",
       "      <td>1212</td>\n",
       "      <td>USA</td>\n",
       "      <td>8.221993</td>\n",
       "    </tr>\n",
       "    <tr>\n",
       "      <th>4</th>\n",
       "      <td>4</td>\n",
       "      <td>A</td>\n",
       "      <td>8</td>\n",
       "      <td>58.219722</td>\n",
       "      <td>0.127749</td>\n",
       "      <td>Toys</td>\n",
       "      <td>Supplier3</td>\n",
       "      <td>2022-01-05</td>\n",
       "      <td>1202</td>\n",
       "      <td>UK</td>\n",
       "      <td>8.201146</td>\n",
       "    </tr>\n",
       "  </tbody>\n",
       "</table>\n",
       "</div>"
      ],
      "text/plain": [
       "   Unnamed: 0 ProductID  QuantitySold      Price  Discount  Category  \\\n",
       "0           0         C             8  75.539471  0.064576      Toys   \n",
       "1           1         A             8  43.100482  0.142251      Toys   \n",
       "2           2         C             3  66.907525  0.198508  Clothing   \n",
       "3           3         C             1  67.017674  0.071013      Home   \n",
       "4           4         A             8  58.219722  0.127749      Toys   \n",
       "\n",
       "    Supplier        Date  CustomerID Country     Profit  \n",
       "0  Supplier1  2022-01-01        1148     USA  20.835021  \n",
       "1  Supplier3  2022-01-02        1079     USA  11.003640  \n",
       "2  Supplier2  2022-01-03        1885  Canada   6.896583  \n",
       "3  Supplier3  2022-01-04        1212     USA   8.221993  \n",
       "4  Supplier3  2022-01-05        1202      UK   8.201146  "
      ]
     },
     "execution_count": 3,
     "metadata": {},
     "output_type": "execute_result"
    }
   ],
   "source": [
    "df.head()"
   ]
  },
  {
   "cell_type": "markdown",
   "id": "cc943eb3",
   "metadata": {},
   "source": [
    "# Let us calculate total revenue for each product:"
   ]
  },
  {
   "cell_type": "code",
   "execution_count": 4,
   "id": "5d059b8c",
   "metadata": {},
   "outputs": [],
   "source": [
    "total_revenue_per_product = df.groupby('ProductID')['Price'].sum()"
   ]
  },
  {
   "cell_type": "code",
   "execution_count": 5,
   "id": "8cacf1ac",
   "metadata": {},
   "outputs": [
    {
     "data": {
      "text/plain": [
       "ProductID\n",
       "A    1887.270345\n",
       "B    1937.498544\n",
       "C    1834.134594\n",
       "Name: Price, dtype: float64"
      ]
     },
     "execution_count": 5,
     "metadata": {},
     "output_type": "execute_result"
    }
   ],
   "source": [
    "total_revenue_per_product"
   ]
  },
  {
   "cell_type": "markdown",
   "id": "3bdc7079",
   "metadata": {},
   "source": [
    "# Let us calculate overall total revenue:"
   ]
  },
  {
   "cell_type": "code",
   "execution_count": 6,
   "id": "bd9aecb5",
   "metadata": {},
   "outputs": [],
   "source": [
    "overall_total_revenue = df['Price'].sum()"
   ]
  },
  {
   "cell_type": "code",
   "execution_count": 7,
   "id": "83aaa514",
   "metadata": {},
   "outputs": [
    {
     "data": {
      "text/plain": [
       "5658.90348302307"
      ]
     },
     "execution_count": 7,
     "metadata": {},
     "output_type": "execute_result"
    }
   ],
   "source": [
    "overall_total_revenue"
   ]
  },
  {
   "cell_type": "markdown",
   "id": "fc37655e",
   "metadata": {},
   "source": [
    "# Let us calculate average profit margin for each product:"
   ]
  },
  {
   "cell_type": "code",
   "execution_count": 8,
   "id": "055a65fb",
   "metadata": {},
   "outputs": [],
   "source": [
    "df['ProfitMargin'] = (df['Price'] - df['Discount']) * df['QuantitySold']"
   ]
  },
  {
   "cell_type": "code",
   "execution_count": 9,
   "id": "a3ef06a8",
   "metadata": {},
   "outputs": [],
   "source": [
    "average_profit_margin_per_product = df.groupby('ProductID')['ProfitMargin'].mean()"
   ]
  },
  {
   "cell_type": "code",
   "execution_count": 10,
   "id": "fe4f09cd",
   "metadata": {},
   "outputs": [
    {
     "data": {
      "text/plain": [
       "ProductID\n",
       "A    258.236261\n",
       "B    256.069989\n",
       "C    319.860763\n",
       "Name: ProfitMargin, dtype: float64"
      ]
     },
     "execution_count": 10,
     "metadata": {},
     "output_type": "execute_result"
    }
   ],
   "source": [
    "average_profit_margin_per_product"
   ]
  },
  {
   "cell_type": "markdown",
   "id": "9ab9b8b6",
   "metadata": {},
   "source": [
    "# Let us now identify top-selling products:"
   ]
  },
  {
   "cell_type": "code",
   "execution_count": 12,
   "id": "89f14209",
   "metadata": {},
   "outputs": [],
   "source": [
    "top_selling_products = df.groupby('ProductID')['QuantitySold'].sum().nlargest(5)"
   ]
  },
  {
   "cell_type": "code",
   "execution_count": 13,
   "id": "f51d787f",
   "metadata": {},
   "outputs": [
    {
     "data": {
      "text/plain": [
       "ProductID\n",
       "B    172\n",
       "C    164\n",
       "A    154\n",
       "Name: QuantitySold, dtype: int64"
      ]
     },
     "execution_count": 13,
     "metadata": {},
     "output_type": "execute_result"
    }
   ],
   "source": [
    "top_selling_products"
   ]
  },
  {
   "cell_type": "markdown",
   "id": "69ac4ce8",
   "metadata": {},
   "source": [
    "# Let us now identify top-selling categories:"
   ]
  },
  {
   "cell_type": "code",
   "execution_count": 14,
   "id": "5661cef2",
   "metadata": {},
   "outputs": [],
   "source": [
    "top_selling_categories = df.groupby('Category')['QuantitySold'].sum().nlargest(5)"
   ]
  },
  {
   "cell_type": "code",
   "execution_count": 15,
   "id": "c7014ec9",
   "metadata": {},
   "outputs": [
    {
     "data": {
      "text/plain": [
       "Category\n",
       "Electronics    160\n",
       "Toys           148\n",
       "Home           111\n",
       "Clothing        71\n",
       "Name: QuantitySold, dtype: int64"
      ]
     },
     "execution_count": 15,
     "metadata": {},
     "output_type": "execute_result"
    }
   ],
   "source": [
    "top_selling_categories"
   ]
  },
  {
   "cell_type": "code",
   "execution_count": null,
   "id": "2e313ce2",
   "metadata": {},
   "outputs": [],
   "source": []
  }
 ],
 "metadata": {
  "kernelspec": {
   "display_name": "Python 3 (ipykernel)",
   "language": "python",
   "name": "python3"
  },
  "language_info": {
   "codemirror_mode": {
    "name": "ipython",
    "version": 3
   },
   "file_extension": ".py",
   "mimetype": "text/x-python",
   "name": "python",
   "nbconvert_exporter": "python",
   "pygments_lexer": "ipython3",
   "version": "3.9.13"
  }
 },
 "nbformat": 4,
 "nbformat_minor": 5
}
