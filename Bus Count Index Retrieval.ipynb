{
 "cells": [
  {
   "cell_type": "markdown",
   "id": "c6b3ec46",
   "metadata": {},
   "source": [
    "# Bus Count Index Retrieval"
   ]
  },
  {
   "cell_type": "code",
   "execution_count": 1,
   "id": "e7c877a2",
   "metadata": {},
   "outputs": [],
   "source": [
    "import pandas as pd"
   ]
  },
  {
   "cell_type": "code",
   "execution_count": 4,
   "id": "429d9743",
   "metadata": {},
   "outputs": [],
   "source": [
    " df = pd.read_csv(\"C:\\\\Users\\\\ADMIN\\\\Downloads\\\\dataset1.csv\")"
   ]
  },
  {
   "cell_type": "code",
   "execution_count": 5,
   "id": "80bab723",
   "metadata": {},
   "outputs": [
    {
     "data": {
      "text/html": [
       "<div>\n",
       "<style scoped>\n",
       "    .dataframe tbody tr th:only-of-type {\n",
       "        vertical-align: middle;\n",
       "    }\n",
       "\n",
       "    .dataframe tbody tr th {\n",
       "        vertical-align: top;\n",
       "    }\n",
       "\n",
       "    .dataframe thead th {\n",
       "        text-align: right;\n",
       "    }\n",
       "</style>\n",
       "<table border=\"1\" class=\"dataframe\">\n",
       "  <thead>\n",
       "    <tr style=\"text-align: right;\">\n",
       "      <th></th>\n",
       "      <th>id_1</th>\n",
       "      <th>id_2</th>\n",
       "      <th>route</th>\n",
       "      <th>moto</th>\n",
       "      <th>car</th>\n",
       "      <th>rv</th>\n",
       "      <th>bus</th>\n",
       "      <th>truck</th>\n",
       "    </tr>\n",
       "  </thead>\n",
       "  <tbody>\n",
       "    <tr>\n",
       "      <th>0</th>\n",
       "      <td>829</td>\n",
       "      <td>827</td>\n",
       "      <td>1</td>\n",
       "      <td>2.05</td>\n",
       "      <td>4.14</td>\n",
       "      <td>4.14</td>\n",
       "      <td>10.1</td>\n",
       "      <td>15.2</td>\n",
       "    </tr>\n",
       "    <tr>\n",
       "      <th>1</th>\n",
       "      <td>829</td>\n",
       "      <td>821</td>\n",
       "      <td>4</td>\n",
       "      <td>6.63</td>\n",
       "      <td>13.26</td>\n",
       "      <td>13.26</td>\n",
       "      <td>32.4</td>\n",
       "      <td>48.5</td>\n",
       "    </tr>\n",
       "    <tr>\n",
       "      <th>2</th>\n",
       "      <td>829</td>\n",
       "      <td>804</td>\n",
       "      <td>7</td>\n",
       "      <td>14.41</td>\n",
       "      <td>28.92</td>\n",
       "      <td>28.92</td>\n",
       "      <td>64.7</td>\n",
       "      <td>97.0</td>\n",
       "    </tr>\n",
       "    <tr>\n",
       "      <th>3</th>\n",
       "      <td>829</td>\n",
       "      <td>822</td>\n",
       "      <td>6</td>\n",
       "      <td>5.90</td>\n",
       "      <td>11.81</td>\n",
       "      <td>11.81</td>\n",
       "      <td>28.8</td>\n",
       "      <td>43.2</td>\n",
       "    </tr>\n",
       "    <tr>\n",
       "      <th>4</th>\n",
       "      <td>829</td>\n",
       "      <td>826</td>\n",
       "      <td>9</td>\n",
       "      <td>2.87</td>\n",
       "      <td>5.81</td>\n",
       "      <td>5.81</td>\n",
       "      <td>14.2</td>\n",
       "      <td>21.2</td>\n",
       "    </tr>\n",
       "  </tbody>\n",
       "</table>\n",
       "</div>"
      ],
      "text/plain": [
       "   id_1  id_2  route   moto    car     rv   bus  truck\n",
       "0   829   827      1   2.05   4.14   4.14  10.1   15.2\n",
       "1   829   821      4   6.63  13.26  13.26  32.4   48.5\n",
       "2   829   804      7  14.41  28.92  28.92  64.7   97.0\n",
       "3   829   822      6   5.90  11.81  11.81  28.8   43.2\n",
       "4   829   826      9   2.87   5.81   5.81  14.2   21.2"
      ]
     },
     "execution_count": 5,
     "metadata": {},
     "output_type": "execute_result"
    }
   ],
   "source": [
    "df.head() "
   ]
  },
  {
   "cell_type": "markdown",
   "id": "080dfb29",
   "metadata": {},
   "source": [
    "# Let us calculate the mean value of the bus column:"
   ]
  },
  {
   "cell_type": "code",
   "execution_count": 6,
   "id": "08574aae",
   "metadata": {},
   "outputs": [],
   "source": [
    " mean_bus = df['bus'].mean()"
   ]
  },
  {
   "cell_type": "code",
   "execution_count": 7,
   "id": "fed7bbc8",
   "metadata": {},
   "outputs": [
    {
     "data": {
      "text/plain": [
       "31.93284457478006"
      ]
     },
     "execution_count": 7,
     "metadata": {},
     "output_type": "execute_result"
    }
   ],
   "source": [
    "mean_bus"
   ]
  },
  {
   "cell_type": "markdown",
   "id": "0a8cac34",
   "metadata": {},
   "source": [
    "# Now we need to identify the indices where bus values are greater than twice the mean:"
   ]
  },
  {
   "cell_type": "code",
   "execution_count": 8,
   "id": "bcd45a8b",
   "metadata": {},
   "outputs": [],
   "source": [
    "bus_indexes = df[df['bus'] > (2 * mean_bus)].index.tolist()"
   ]
  },
  {
   "cell_type": "code",
   "execution_count": 9,
   "id": "68a6e9f8",
   "metadata": {},
   "outputs": [
    {
     "data": {
      "text/plain": [
       "[2,\n",
       " 7,\n",
       " 12,\n",
       " 17,\n",
       " 25,\n",
       " 30,\n",
       " 54,\n",
       " 64,\n",
       " 70,\n",
       " 97,\n",
       " 144,\n",
       " 145,\n",
       " 149,\n",
       " 154,\n",
       " 160,\n",
       " 201,\n",
       " 206,\n",
       " 210,\n",
       " 215,\n",
       " 234,\n",
       " 235,\n",
       " 245,\n",
       " 250,\n",
       " 309,\n",
       " 314,\n",
       " 319,\n",
       " 322,\n",
       " 323,\n",
       " 334,\n",
       " 340]"
      ]
     },
     "execution_count": 9,
     "metadata": {},
     "output_type": "execute_result"
    }
   ],
   "source": [
    "bus_indexes"
   ]
  },
  {
   "cell_type": "markdown",
   "id": "dd8a4245",
   "metadata": {},
   "source": [
    "# Let us now Sort the indices in ascending order:"
   ]
  },
  {
   "cell_type": "code",
   "execution_count": 10,
   "id": "d14ad380",
   "metadata": {},
   "outputs": [],
   "source": [
    "bus_indexes.sort()"
   ]
  },
  {
   "cell_type": "code",
   "execution_count": 11,
   "id": "f79ad832",
   "metadata": {},
   "outputs": [
    {
     "data": {
      "text/plain": [
       "[2,\n",
       " 7,\n",
       " 12,\n",
       " 17,\n",
       " 25,\n",
       " 30,\n",
       " 54,\n",
       " 64,\n",
       " 70,\n",
       " 97,\n",
       " 144,\n",
       " 145,\n",
       " 149,\n",
       " 154,\n",
       " 160,\n",
       " 201,\n",
       " 206,\n",
       " 210,\n",
       " 215,\n",
       " 234,\n",
       " 235,\n",
       " 245,\n",
       " 250,\n",
       " 309,\n",
       " 314,\n",
       " 319,\n",
       " 322,\n",
       " 323,\n",
       " 334,\n",
       " 340]"
      ]
     },
     "execution_count": 11,
     "metadata": {},
     "output_type": "execute_result"
    }
   ],
   "source": [
    "bus_indexes"
   ]
  },
  {
   "cell_type": "code",
   "execution_count": 12,
   "id": "a902e98b",
   "metadata": {},
   "outputs": [
    {
     "name": "stdout",
     "output_type": "stream",
     "text": [
      "[2, 7, 12, 17, 25, 30, 54, 64, 70, 97, 144, 145, 149, 154, 160, 201, 206, 210, 215, 234, 235, 245, 250, 309, 314, 319, 322, 323, 334, 340]\n"
     ]
    }
   ],
   "source": [
    "print(bus_indexes)"
   ]
  },
  {
   "cell_type": "code",
   "execution_count": null,
   "id": "529c6e8d",
   "metadata": {},
   "outputs": [],
   "source": []
  }
 ],
 "metadata": {
  "kernelspec": {
   "display_name": "Python 3 (ipykernel)",
   "language": "python",
   "name": "python3"
  },
  "language_info": {
   "codemirror_mode": {
    "name": "ipython",
    "version": 3
   },
   "file_extension": ".py",
   "mimetype": "text/x-python",
   "name": "python",
   "nbconvert_exporter": "python",
   "pygments_lexer": "ipython3",
   "version": "3.9.13"
  }
 },
 "nbformat": 4,
 "nbformat_minor": 5
}
