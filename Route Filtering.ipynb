{
 "cells": [
  {
   "cell_type": "markdown",
   "id": "b9f2ba62",
   "metadata": {},
   "source": [
    "# Route Filtering"
   ]
  },
  {
   "cell_type": "code",
   "execution_count": 1,
   "id": "ab039ecd",
   "metadata": {},
   "outputs": [],
   "source": [
    "import pandas as pd"
   ]
  },
  {
   "cell_type": "code",
   "execution_count": 2,
   "id": "596cb05b",
   "metadata": {},
   "outputs": [],
   "source": [
    " df = pd.read_csv(\"C:\\\\Users\\\\ADMIN\\\\Downloads\\\\dataset1.csv\")"
   ]
  },
  {
   "cell_type": "code",
   "execution_count": 3,
   "id": "560c42c9",
   "metadata": {},
   "outputs": [
    {
     "data": {
      "text/html": [
       "<div>\n",
       "<style scoped>\n",
       "    .dataframe tbody tr th:only-of-type {\n",
       "        vertical-align: middle;\n",
       "    }\n",
       "\n",
       "    .dataframe tbody tr th {\n",
       "        vertical-align: top;\n",
       "    }\n",
       "\n",
       "    .dataframe thead th {\n",
       "        text-align: right;\n",
       "    }\n",
       "</style>\n",
       "<table border=\"1\" class=\"dataframe\">\n",
       "  <thead>\n",
       "    <tr style=\"text-align: right;\">\n",
       "      <th></th>\n",
       "      <th>id_1</th>\n",
       "      <th>id_2</th>\n",
       "      <th>route</th>\n",
       "      <th>moto</th>\n",
       "      <th>car</th>\n",
       "      <th>rv</th>\n",
       "      <th>bus</th>\n",
       "      <th>truck</th>\n",
       "    </tr>\n",
       "  </thead>\n",
       "  <tbody>\n",
       "    <tr>\n",
       "      <th>0</th>\n",
       "      <td>829</td>\n",
       "      <td>827</td>\n",
       "      <td>1</td>\n",
       "      <td>2.05</td>\n",
       "      <td>4.14</td>\n",
       "      <td>4.14</td>\n",
       "      <td>10.1</td>\n",
       "      <td>15.2</td>\n",
       "    </tr>\n",
       "    <tr>\n",
       "      <th>1</th>\n",
       "      <td>829</td>\n",
       "      <td>821</td>\n",
       "      <td>4</td>\n",
       "      <td>6.63</td>\n",
       "      <td>13.26</td>\n",
       "      <td>13.26</td>\n",
       "      <td>32.4</td>\n",
       "      <td>48.5</td>\n",
       "    </tr>\n",
       "    <tr>\n",
       "      <th>2</th>\n",
       "      <td>829</td>\n",
       "      <td>804</td>\n",
       "      <td>7</td>\n",
       "      <td>14.41</td>\n",
       "      <td>28.92</td>\n",
       "      <td>28.92</td>\n",
       "      <td>64.7</td>\n",
       "      <td>97.0</td>\n",
       "    </tr>\n",
       "    <tr>\n",
       "      <th>3</th>\n",
       "      <td>829</td>\n",
       "      <td>822</td>\n",
       "      <td>6</td>\n",
       "      <td>5.90</td>\n",
       "      <td>11.81</td>\n",
       "      <td>11.81</td>\n",
       "      <td>28.8</td>\n",
       "      <td>43.2</td>\n",
       "    </tr>\n",
       "    <tr>\n",
       "      <th>4</th>\n",
       "      <td>829</td>\n",
       "      <td>826</td>\n",
       "      <td>9</td>\n",
       "      <td>2.87</td>\n",
       "      <td>5.81</td>\n",
       "      <td>5.81</td>\n",
       "      <td>14.2</td>\n",
       "      <td>21.2</td>\n",
       "    </tr>\n",
       "  </tbody>\n",
       "</table>\n",
       "</div>"
      ],
      "text/plain": [
       "   id_1  id_2  route   moto    car     rv   bus  truck\n",
       "0   829   827      1   2.05   4.14   4.14  10.1   15.2\n",
       "1   829   821      4   6.63  13.26  13.26  32.4   48.5\n",
       "2   829   804      7  14.41  28.92  28.92  64.7   97.0\n",
       "3   829   822      6   5.90  11.81  11.81  28.8   43.2\n",
       "4   829   826      9   2.87   5.81   5.81  14.2   21.2"
      ]
     },
     "execution_count": 3,
     "metadata": {},
     "output_type": "execute_result"
    }
   ],
   "source": [
    "df.head() "
   ]
  },
  {
   "cell_type": "markdown",
   "id": "de550c69",
   "metadata": {},
   "source": [
    "# Let us calculate the average of values in the truck column for each route:"
   ]
  },
  {
   "cell_type": "code",
   "execution_count": 4,
   "id": "b183d3a8",
   "metadata": {},
   "outputs": [],
   "source": [
    "avg_value_truck = df.groupby('route')['truck'].mean()"
   ]
  },
  {
   "cell_type": "code",
   "execution_count": 5,
   "id": "b692b0c0",
   "metadata": {},
   "outputs": [
    {
     "data": {
      "text/plain": [
       "route\n",
       "1     49.164103\n",
       "2     41.403125\n",
       "3     50.075000\n",
       "4     51.096774\n",
       "5     43.327778\n",
       "6     47.952500\n",
       "7     52.525862\n",
       "8     46.128571\n",
       "9     54.531429\n",
       "10    41.400000\n",
       "Name: truck, dtype: float64"
      ]
     },
     "execution_count": 5,
     "metadata": {},
     "output_type": "execute_result"
    }
   ],
   "source": [
    "avg_value_truck"
   ]
  },
  {
   "cell_type": "markdown",
   "id": "8d87ad44",
   "metadata": {},
   "source": [
    "# We will now filter the routes where the average of truck values is greater than 7:"
   ]
  },
  {
   "cell_type": "code",
   "execution_count": 7,
   "id": "2b1824c5",
   "metadata": {},
   "outputs": [],
   "source": [
    "filtered_routes = avg_value_truck[avg_value_truck > 7].index.tolist()"
   ]
  },
  {
   "cell_type": "code",
   "execution_count": 8,
   "id": "1be01e88",
   "metadata": {},
   "outputs": [
    {
     "data": {
      "text/plain": [
       "[1, 2, 3, 4, 5, 6, 7, 8, 9, 10]"
      ]
     },
     "execution_count": 8,
     "metadata": {},
     "output_type": "execute_result"
    }
   ],
   "source": [
    "filtered_routes"
   ]
  },
  {
   "cell_type": "markdown",
   "id": "a16270a6",
   "metadata": {},
   "source": [
    "# Let us sort it in ascending order:"
   ]
  },
  {
   "cell_type": "code",
   "execution_count": 9,
   "id": "fba62284",
   "metadata": {},
   "outputs": [],
   "source": [
    "filtered_routes.sort()"
   ]
  }
 ],
 "metadata": {
  "kernelspec": {
   "display_name": "Python 3 (ipykernel)",
   "language": "python",
   "name": "python3"
  },
  "language_info": {
   "codemirror_mode": {
    "name": "ipython",
    "version": 3
   },
   "file_extension": ".py",
   "mimetype": "text/x-python",
   "name": "python",
   "nbconvert_exporter": "python",
   "pygments_lexer": "ipython3",
   "version": "3.9.13"
  }
 },
 "nbformat": 4,
 "nbformat_minor": 5
}
